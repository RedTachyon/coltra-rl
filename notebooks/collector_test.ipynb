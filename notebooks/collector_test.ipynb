{
 "cells": [
  {
   "cell_type": "code",
   "execution_count": 1,
   "metadata": {},
   "outputs": [],
   "source": [
    "import sys\n",
    "sys.path.insert(0, '..')\n",
    "\n",
    "import numpy as np\n",
    "import torch\n",
    "\n",
    "from envs import UnitySimpleCrowdEnv\n",
    "from collectors import collect_crowd_data\n",
    "from agents import ConstantAgent\n",
    "\n",
    "from tqdm import trange, tqdm"
   ]
  },
  {
   "cell_type": "code",
   "execution_count": 2,
   "metadata": {},
   "outputs": [],
   "source": [
    "agent = ConstantAgent(np.array([1, 1]))"
   ]
  },
  {
   "cell_type": "code",
   "execution_count": 3,
   "metadata": {},
   "outputs": [],
   "source": [
    "env = UnitySimpleCrowdEnv(None)\n",
    "env.engine_channel.set_configuration_parameters(time_scale=10000)"
   ]
  },
  {
   "cell_type": "code",
   "execution_count": 5,
   "metadata": {},
   "outputs": [],
   "source": [
    "env.engine_channel.set_configuration_parameters(time_scale=10000)"
   ]
  },
  {
   "cell_type": "code",
   "execution_count": 6,
   "metadata": {},
   "outputs": [
    {
     "name": "stderr",
     "output_type": "stream",
     "text": [
      "100%|██████████| 500/500 [00:10<00:00, 47.75it/s]\n"
     ]
    }
   ],
   "source": [
    "data, stats = collect_crowd_data(agent, env, num_steps=500, disable_tqdm=False)"
   ]
  },
  {
   "cell_type": "code",
   "execution_count": 15,
   "metadata": {},
   "outputs": [],
   "source": [
    "foo = data.reward.view((500, -1))\n"
   ]
  },
  {
   "cell_type": "code",
   "execution_count": 17,
   "metadata": {},
   "outputs": [
    {
     "data": {
      "text/plain": [
       "tensor([ 8.7354e-04,  1.6572e-03,  2.3574e-03,  ...,  5.3406e-05,\n",
       "        -4.3106e-05,  9.6147e-04])"
      ]
     },
     "execution_count": 17,
     "metadata": {},
     "output_type": "execute_result"
    }
   ],
   "source": [
    "data.reward"
   ]
  },
  {
   "cell_type": "code",
   "execution_count": 22,
   "metadata": {},
   "outputs": [],
   "source": [
    "foo = torch.randn(500, 10)\n",
    "bar = torch.randn(500)"
   ]
  },
  {
   "cell_type": "code",
   "execution_count": 24,
   "metadata": {},
   "outputs": [
    {
     "data": {
      "text/plain": [
       "tensor([-35.1831, -18.4503,  14.6587,  31.3742, -20.8110,  27.8204,  19.4542,\n",
       "        -13.1884, -26.2660, -30.3281])"
      ]
     },
     "execution_count": 24,
     "metadata": {},
     "output_type": "execute_result"
    }
   ],
   "source": [
    "bar @ foo"
   ]
  },
  {
   "cell_type": "code",
   "execution_count": 5,
   "metadata": {},
   "outputs": [
    {
     "data": {
      "text/plain": [
       "tensor([False, False, False,  ..., False, False,  True])"
      ]
     },
     "execution_count": 5,
     "metadata": {},
     "output_type": "execute_result"
    }
   ],
   "source": [
    "data.done"
   ]
  },
  {
   "cell_type": "code",
   "execution_count": 7,
   "metadata": {},
   "outputs": [
    {
     "data": {
      "text/plain": [
       "(500, 8)"
      ]
     },
     "execution_count": 7,
     "metadata": {},
     "output_type": "execute_result"
    }
   ],
   "source": [
    "stats['mean_dist'].shape"
   ]
  },
  {
   "cell_type": "code",
   "execution_count": 8,
   "metadata": {},
   "outputs": [],
   "source": [
    "batch = concat_crowd_batch(data)"
   ]
  },
  {
   "cell_type": "code",
   "execution_count": 9,
   "metadata": {},
   "outputs": [
    {
     "data": {
      "text/plain": [
       "torch.Size([80000, 4])"
      ]
     },
     "execution_count": 9,
     "metadata": {},
     "output_type": "execute_result"
    }
   ],
   "source": [
    "batch['observations'].view(-1, 4).shape"
   ]
  },
  {
   "cell_type": "code",
   "execution_count": 16,
   "metadata": {},
   "outputs": [
    {
     "data": {
      "text/plain": [
       "torch.Size([1000, 4])"
      ]
     },
     "execution_count": 16,
     "metadata": {},
     "output_type": "execute_result"
    }
   ],
   "source": [
    "batch['values'].shape"
   ]
  },
  {
   "cell_type": "code",
   "execution_count": 6,
   "metadata": {},
   "outputs": [
    {
     "data": {
      "text/plain": [
       "torch.Size([1000, 4])"
      ]
     },
     "execution_count": 6,
     "metadata": {},
     "output_type": "execute_result"
    }
   ],
   "source": [
    "data['observations']['Person1?team=0&id=1'].shape"
   ]
  },
  {
   "cell_type": "code",
   "execution_count": 17,
   "metadata": {},
   "outputs": [
    {
     "data": {
      "text/plain": [
       "array([[0. , 0. ],\n",
       "       [0. , 0. ],\n",
       "       [0. , 0. ],\n",
       "       [0. , 0. ],\n",
       "       [0. , 0. ],\n",
       "       [0. , 0. ],\n",
       "       [0. , 0. ],\n",
       "       [0. , 0. ],\n",
       "       [0. , 0. ],\n",
       "       [0. , 0. ],\n",
       "       [0. , 0. ],\n",
       "       [0. , 0. ],\n",
       "       [0. , 0. ],\n",
       "       [0. , 0. ],\n",
       "       [0. , 0. ],\n",
       "       [0. , 0. ],\n",
       "       [0. , 0. ],\n",
       "       [0. , 0. ],\n",
       "       [0. , 0. ],\n",
       "       [0. , 0. ],\n",
       "       [0. , 0. ],\n",
       "       [0. , 0. ],\n",
       "       [0. , 0. ],\n",
       "       [0. , 0. ],\n",
       "       [0. , 0. ],\n",
       "       [0. , 0. ],\n",
       "       [0. , 0. ],\n",
       "       [0. , 0. ],\n",
       "       [0. , 0. ],\n",
       "       [0. , 0. ],\n",
       "       [0. , 0. ],\n",
       "       [0. , 0. ],\n",
       "       [0. , 0. ],\n",
       "       [0. , 0. ],\n",
       "       [0. , 0. ],\n",
       "       [0. , 0. ],\n",
       "       [0. , 0. ],\n",
       "       [0. , 0. ],\n",
       "       [0. , 0. ],\n",
       "       [0. , 0. ],\n",
       "       [0. , 0. ],\n",
       "       [0. , 0. ],\n",
       "       [0. , 0. ],\n",
       "       [0. , 0. ],\n",
       "       [0. , 0. ],\n",
       "       [0. , 0. ],\n",
       "       [0. , 0. ],\n",
       "       [0. , 0. ],\n",
       "       [0. , 0. ],\n",
       "       [0. , 0. ],\n",
       "       [0. , 0. ],\n",
       "       [0. , 0. ],\n",
       "       [0. , 0. ],\n",
       "       [0. , 0. ],\n",
       "       [0. , 0. ],\n",
       "       [0. , 0. ],\n",
       "       [0. , 0. ],\n",
       "       [0. , 0. ],\n",
       "       [0. , 0. ],\n",
       "       [0. , 0. ],\n",
       "       [0. , 0. ],\n",
       "       [0. , 0. ],\n",
       "       [0. , 0. ],\n",
       "       [0. , 0. ],\n",
       "       [0. , 0. ],\n",
       "       [0. , 0. ],\n",
       "       [0. , 0. ],\n",
       "       [0. , 0. ],\n",
       "       [0. , 0. ],\n",
       "       [0. , 0. ],\n",
       "       [0. , 0. ],\n",
       "       [0. , 0. ],\n",
       "       [0. , 0. ],\n",
       "       [0. , 0. ],\n",
       "       [0. , 0. ],\n",
       "       [0. , 0. ],\n",
       "       [0. , 0. ],\n",
       "       [0. , 0. ],\n",
       "       [0. , 0. ],\n",
       "       [0. , 0. ],\n",
       "       [0. , 0. ],\n",
       "       [0. , 0. ],\n",
       "       [0. , 0. ],\n",
       "       [0. , 0. ],\n",
       "       [0. , 0. ],\n",
       "       [0. , 0. ],\n",
       "       [0. , 0. ],\n",
       "       [0. , 0. ],\n",
       "       [0. , 0. ],\n",
       "       [0. , 0. ],\n",
       "       [0. , 0. ],\n",
       "       [0. , 0. ],\n",
       "       [0. , 0. ],\n",
       "       [0. , 0. ],\n",
       "       [0. , 0. ],\n",
       "       [0. , 0. ],\n",
       "       [0. , 0.5],\n",
       "       [0. , 0.5],\n",
       "       [0. , 0.5],\n",
       "       [0. , 0.5],\n",
       "       [0. , 0.5],\n",
       "       [0. , 0.5],\n",
       "       [0. , 0.5],\n",
       "       [0. , 0.5],\n",
       "       [0. , 0.5],\n",
       "       [0. , 0.5],\n",
       "       [0. , 0.5],\n",
       "       [0. , 0.5],\n",
       "       [0. , 0.5],\n",
       "       [0. , 0.5],\n",
       "       [0. , 0.5],\n",
       "       [0. , 0.5],\n",
       "       [0. , 0.5],\n",
       "       [0. , 0.5],\n",
       "       [0. , 0.5],\n",
       "       [0. , 0.5],\n",
       "       [0. , 0.5],\n",
       "       [0. , 0.5],\n",
       "       [0. , 0.5],\n",
       "       [0. , 0.5],\n",
       "       [0. , 0.5],\n",
       "       [0. , 0.5],\n",
       "       [0. , 0.5],\n",
       "       [0. , 0.5],\n",
       "       [0. , 0.5],\n",
       "       [0. , 0.5],\n",
       "       [0. , 0.5],\n",
       "       [0. , 0.5],\n",
       "       [0. , 0.5],\n",
       "       [0. , 0.5],\n",
       "       [0. , 0.5],\n",
       "       [0. , 0.5],\n",
       "       [0. , 0.5],\n",
       "       [0. , 0.5],\n",
       "       [0. , 0.5],\n",
       "       [0. , 0.5],\n",
       "       [0. , 0.5],\n",
       "       [0. , 0.5],\n",
       "       [0. , 0.5],\n",
       "       [0. , 0.5],\n",
       "       [0. , 0.5],\n",
       "       [0. , 0.5],\n",
       "       [0. , 0.5],\n",
       "       [0. , 0.5],\n",
       "       [0. , 0.5],\n",
       "       [0. , 0.5],\n",
       "       [0. , 0.5],\n",
       "       [0. , 0.5],\n",
       "       [0. , 0.5],\n",
       "       [0. , 0.5],\n",
       "       [0. , 0.5],\n",
       "       [0. , 0.5],\n",
       "       [0. , 0.5],\n",
       "       [0. , 0.5],\n",
       "       [0. , 0.5],\n",
       "       [0. , 0.5],\n",
       "       [0. , 0.5],\n",
       "       [0. , 0.5],\n",
       "       [0. , 0.5],\n",
       "       [0. , 0.5],\n",
       "       [0. , 0.5],\n",
       "       [0. , 0.5],\n",
       "       [0. , 0.5],\n",
       "       [0. , 0.5],\n",
       "       [0. , 0.5],\n",
       "       [0.5, 0.5],\n",
       "       [0.5, 0.5],\n",
       "       [0.5, 0.5],\n",
       "       [0.5, 0.5],\n",
       "       [0.5, 0.5],\n",
       "       [0.5, 0.5],\n",
       "       [0.5, 0.5],\n",
       "       [0.5, 0.5],\n",
       "       [0.5, 0.5],\n",
       "       [0.5, 0.5],\n",
       "       [0.5, 0.5],\n",
       "       [0.5, 0.5],\n",
       "       [0.5, 0.5],\n",
       "       [1. , 0.5],\n",
       "       [1. , 1. ],\n",
       "       [1. , 1. ],\n",
       "       [1. , 1. ],\n",
       "       [1. , 1. ],\n",
       "       [1. , 1. ],\n",
       "       [1. , 1. ],\n",
       "       [1. , 1. ],\n",
       "       [1. , 1. ],\n",
       "       [1. , 1. ],\n",
       "       [1. , 1. ],\n",
       "       [1. , 1. ],\n",
       "       [1. , 1. ],\n",
       "       [1. , 1. ],\n",
       "       [1. , 1. ],\n",
       "       [1. , 1. ],\n",
       "       [1. , 1. ],\n",
       "       [1. , 1. ],\n",
       "       [1. , 1. ],\n",
       "       [1. , 1. ],\n",
       "       [1. , 1. ],\n",
       "       [1. , 1. ],\n",
       "       [1. , 1. ],\n",
       "       [1. , 1. ],\n",
       "       [1. , 1. ],\n",
       "       [1. , 1. ],\n",
       "       [1. , 1. ],\n",
       "       [1. , 1. ],\n",
       "       [1. , 1. ],\n",
       "       [1. , 1. ],\n",
       "       [1. , 1. ],\n",
       "       [1. , 1. ],\n",
       "       [1. , 1. ],\n",
       "       [1. , 1. ],\n",
       "       [1. , 1. ],\n",
       "       [1. , 1. ],\n",
       "       [1. , 1. ],\n",
       "       [1. , 1. ],\n",
       "       [1. , 1. ],\n",
       "       [1. , 1. ],\n",
       "       [1. , 1. ],\n",
       "       [1. , 1. ],\n",
       "       [1. , 1. ],\n",
       "       [1. , 1. ],\n",
       "       [1. , 1. ],\n",
       "       [1. , 1. ],\n",
       "       [1. , 1. ],\n",
       "       [1. , 1. ],\n",
       "       [1. , 1. ],\n",
       "       [1. , 1. ],\n",
       "       [1. , 1. ],\n",
       "       [1. , 1. ],\n",
       "       [1. , 1. ],\n",
       "       [1. , 1. ],\n",
       "       [1. , 1. ],\n",
       "       [1. , 1. ],\n",
       "       [1. , 1. ],\n",
       "       [1. , 1. ],\n",
       "       [1. , 1. ],\n",
       "       [1. , 1. ],\n",
       "       [1. , 1. ],\n",
       "       [1. , 1. ],\n",
       "       [1. , 1. ],\n",
       "       [1. , 1. ],\n",
       "       [1. , 1. ],\n",
       "       [1. , 1. ],\n",
       "       [1. , 1. ],\n",
       "       [1. , 1. ],\n",
       "       [1. , 1. ],\n",
       "       [1. , 1. ],\n",
       "       [1. , 1. ],\n",
       "       [1. , 1. ],\n",
       "       [1. , 1. ],\n",
       "       [1. , 1. ],\n",
       "       [1. , 1. ],\n",
       "       [1. , 1. ],\n",
       "       [1. , 1. ],\n",
       "       [1. , 1. ],\n",
       "       [1. , 1. ],\n",
       "       [1. , 1. ],\n",
       "       [1. , 1. ],\n",
       "       [1. , 1. ],\n",
       "       [1. , 1. ],\n",
       "       [1. , 1. ],\n",
       "       [1. , 1. ],\n",
       "       [1. , 1. ],\n",
       "       [1. , 1. ],\n",
       "       [1. , 1. ],\n",
       "       [1. , 1. ],\n",
       "       [1. , 1. ],\n",
       "       [1. , 1. ],\n",
       "       [1. , 1. ],\n",
       "       [1. , 1. ],\n",
       "       [1. , 1. ],\n",
       "       [1. , 1. ],\n",
       "       [1. , 1. ],\n",
       "       [1. , 1. ],\n",
       "       [1. , 1. ],\n",
       "       [1. , 1. ],\n",
       "       [1. , 1. ],\n",
       "       [1. , 1. ],\n",
       "       [1. , 1. ],\n",
       "       [1. , 1. ],\n",
       "       [1. , 1. ],\n",
       "       [1. , 1. ],\n",
       "       [1. , 1. ],\n",
       "       [1. , 1. ],\n",
       "       [1. , 1. ],\n",
       "       [1. , 1. ],\n",
       "       [1. , 1. ],\n",
       "       [1. , 1. ],\n",
       "       [1. , 1. ],\n",
       "       [1. , 1. ],\n",
       "       [1. , 1. ],\n",
       "       [1. , 1. ],\n",
       "       [1. , 1. ],\n",
       "       [1. , 1. ],\n",
       "       [1. , 1. ],\n",
       "       [1. , 1. ],\n",
       "       [1. , 1. ],\n",
       "       [1. , 1. ],\n",
       "       [1. , 1. ],\n",
       "       [1. , 1. ],\n",
       "       [1. , 1. ],\n",
       "       [1. , 1. ],\n",
       "       [1. , 1. ],\n",
       "       [1. , 1. ],\n",
       "       [1. , 1. ],\n",
       "       [1. , 1. ],\n",
       "       [1. , 1. ],\n",
       "       [1. , 1. ],\n",
       "       [1. , 1. ],\n",
       "       [1. , 1. ],\n",
       "       [1. , 1. ],\n",
       "       [1. , 1. ],\n",
       "       [1. , 1. ],\n",
       "       [1. , 1. ],\n",
       "       [1. , 1. ],\n",
       "       [1. , 1. ],\n",
       "       [1. , 1. ],\n",
       "       [1. , 1. ],\n",
       "       [1. , 1. ],\n",
       "       [1. , 1. ],\n",
       "       [1. , 1. ],\n",
       "       [1. , 1. ],\n",
       "       [1. , 1. ],\n",
       "       [1. , 1. ],\n",
       "       [1. , 1. ],\n",
       "       [1. , 1. ],\n",
       "       [1. , 1. ],\n",
       "       [1. , 1. ],\n",
       "       [1. , 1. ],\n",
       "       [1. , 1. ],\n",
       "       [1. , 1. ],\n",
       "       [1. , 1. ],\n",
       "       [1. , 1. ],\n",
       "       [1. , 1. ],\n",
       "       [1. , 1. ],\n",
       "       [1. , 1. ],\n",
       "       [1. , 1. ],\n",
       "       [1. , 1. ],\n",
       "       [1. , 1. ],\n",
       "       [1. , 1. ],\n",
       "       [1. , 1. ],\n",
       "       [1. , 1. ],\n",
       "       [1. , 1. ],\n",
       "       [1. , 1. ],\n",
       "       [1. , 1. ],\n",
       "       [1. , 1. ],\n",
       "       [1. , 1. ],\n",
       "       [1. , 1. ],\n",
       "       [1. , 1. ],\n",
       "       [1. , 1. ],\n",
       "       [1. , 1. ],\n",
       "       [1. , 1. ],\n",
       "       [1. , 1. ],\n",
       "       [1. , 1. ],\n",
       "       [1. , 1. ],\n",
       "       [1. , 1. ],\n",
       "       [1. , 1. ],\n",
       "       [1. , 1. ],\n",
       "       [1. , 1. ],\n",
       "       [1. , 1. ],\n",
       "       [1. , 1. ],\n",
       "       [1. , 1. ],\n",
       "       [1. , 1. ],\n",
       "       [1. , 1. ],\n",
       "       [1. , 1. ],\n",
       "       [1. , 1. ],\n",
       "       [1. , 1. ],\n",
       "       [1. , 1. ],\n",
       "       [1. , 1. ],\n",
       "       [1. , 1. ],\n",
       "       [1. , 1. ],\n",
       "       [1. , 1. ],\n",
       "       [1. , 1. ],\n",
       "       [1. , 1. ],\n",
       "       [1. , 1. ],\n",
       "       [1. , 1. ],\n",
       "       [1. , 1. ],\n",
       "       [1. , 1. ],\n",
       "       [1. , 1. ],\n",
       "       [1. , 1. ],\n",
       "       [1. , 1. ],\n",
       "       [1. , 1. ],\n",
       "       [1. , 1. ],\n",
       "       [1. , 1. ],\n",
       "       [1. , 1. ],\n",
       "       [1. , 1. ],\n",
       "       [1. , 1. ],\n",
       "       [1. , 1. ],\n",
       "       [1. , 1. ],\n",
       "       [1. , 1. ],\n",
       "       [1. , 1. ],\n",
       "       [1. , 1. ],\n",
       "       [1. , 1. ],\n",
       "       [1. , 1. ],\n",
       "       [1. , 1. ],\n",
       "       [1. , 1. ],\n",
       "       [1. , 1. ],\n",
       "       [1. , 1. ],\n",
       "       [1. , 1. ],\n",
       "       [1. , 1. ],\n",
       "       [1. , 1. ],\n",
       "       [1. , 1. ],\n",
       "       [1. , 1. ],\n",
       "       [1. , 1. ],\n",
       "       [1. , 1. ],\n",
       "       [1. , 1. ],\n",
       "       [1. , 1. ],\n",
       "       [1. , 1. ],\n",
       "       [1. , 1. ],\n",
       "       [1. , 1. ],\n",
       "       [1. , 1. ],\n",
       "       [1. , 1. ],\n",
       "       [1. , 1. ],\n",
       "       [1. , 1. ],\n",
       "       [1. , 1. ],\n",
       "       [1. , 1. ],\n",
       "       [1. , 1. ],\n",
       "       [1. , 1. ],\n",
       "       [1. , 1. ],\n",
       "       [1. , 1. ],\n",
       "       [1. , 1. ],\n",
       "       [1. , 1. ],\n",
       "       [1. , 1. ],\n",
       "       [1. , 1. ],\n",
       "       [1. , 1. ],\n",
       "       [1. , 1. ],\n",
       "       [1. , 1. ],\n",
       "       [1. , 1. ],\n",
       "       [1. , 1. ],\n",
       "       [1. , 1. ],\n",
       "       [1. , 1. ],\n",
       "       [1. , 1. ],\n",
       "       [1. , 1. ],\n",
       "       [1. , 1. ],\n",
       "       [1. , 1. ],\n",
       "       [1. , 1. ],\n",
       "       [1. , 1. ],\n",
       "       [1. , 1. ],\n",
       "       [1. , 1. ],\n",
       "       [1. , 1. ],\n",
       "       [1. , 1. ],\n",
       "       [1. , 1. ],\n",
       "       [1. , 1. ],\n",
       "       [1. , 1. ],\n",
       "       [1. , 1. ],\n",
       "       [1. , 1. ],\n",
       "       [1. , 1. ],\n",
       "       [1. , 1. ],\n",
       "       [1. , 1. ],\n",
       "       [1. , 1. ],\n",
       "       [1. , 1. ],\n",
       "       [1. , 1. ],\n",
       "       [1. , 1. ],\n",
       "       [1. , 1. ],\n",
       "       [1. , 1. ],\n",
       "       [1. , 1. ],\n",
       "       [1. , 1. ],\n",
       "       [1. , 1. ],\n",
       "       [1. , 1. ],\n",
       "       [1. , 1. ],\n",
       "       [1. , 1. ],\n",
       "       [1. , 1. ],\n",
       "       [1. , 1. ],\n",
       "       [1. , 1. ],\n",
       "       [1. , 1. ],\n",
       "       [1. , 1. ],\n",
       "       [1. , 1. ],\n",
       "       [1. , 1. ],\n",
       "       [1. , 1. ],\n",
       "       [1. , 1. ],\n",
       "       [1. , 1. ],\n",
       "       [1. , 1. ],\n",
       "       [1. , 1. ],\n",
       "       [1. , 1. ],\n",
       "       [1. , 1. ],\n",
       "       [1. , 1. ],\n",
       "       [1. , 1. ],\n",
       "       [1. , 1. ],\n",
       "       [1. , 1. ],\n",
       "       [1. , 1. ],\n",
       "       [1. , 1. ],\n",
       "       [1. , 1. ],\n",
       "       [1. , 1. ],\n",
       "       [1. , 1. ],\n",
       "       [1. , 1. ],\n",
       "       [1. , 1. ],\n",
       "       [1. , 1. ],\n",
       "       [1. , 1. ],\n",
       "       [1. , 1. ],\n",
       "       [1. , 1. ],\n",
       "       [1. , 1. ],\n",
       "       [1. , 1. ],\n",
       "       [1. , 1. ],\n",
       "       [1. , 1. ],\n",
       "       [1. , 1. ],\n",
       "       [1. , 1. ],\n",
       "       [1. , 1. ],\n",
       "       [1. , 1. ],\n",
       "       [0.5, 0.5]], dtype=float32)"
      ]
     },
     "execution_count": 17,
     "metadata": {},
     "output_type": "execute_result"
    }
   ],
   "source": [
    "stats['mean_collision'][:500]"
   ]
  },
  {
   "cell_type": "code",
   "execution_count": 12,
   "metadata": {},
   "outputs": [
    {
     "data": {
      "text/plain": [
       "(978, 2)"
      ]
     },
     "execution_count": 12,
     "metadata": {},
     "output_type": "execute_result"
    }
   ],
   "source": [
    "stats['mean_collision'].shape"
   ]
  },
  {
   "cell_type": "code",
   "execution_count": 10,
   "metadata": {},
   "outputs": [
    {
     "ename": "KeyError",
     "evalue": "'Person1?team=0&id=4'",
     "output_type": "error",
     "traceback": [
      "\u001b[0;31m---------------------------------------------------------------------------\u001b[0m",
      "\u001b[0;31mKeyError\u001b[0m                                  Traceback (most recent call last)",
      "\u001b[0;32m<ipython-input-10-5b1c00892b93>\u001b[0m in \u001b[0;36m<module>\u001b[0;34m\u001b[0m\n\u001b[0;32m----> 1\u001b[0;31m \u001b[0mdata\u001b[0m\u001b[0;34m[\u001b[0m\u001b[0;34m'dones'\u001b[0m\u001b[0;34m]\u001b[0m\u001b[0;34m[\u001b[0m\u001b[0;34m'Person1?team=0&id=4'\u001b[0m\u001b[0;34m]\u001b[0m\u001b[0;34m[\u001b[0m\u001b[0;36m499\u001b[0m\u001b[0;34m]\u001b[0m\u001b[0;34m\u001b[0m\u001b[0;34m\u001b[0m\u001b[0m\n\u001b[0m",
      "\u001b[0;31mKeyError\u001b[0m: 'Person1?team=0&id=4'"
     ]
    }
   ],
   "source": [
    "data['dones']['Person1?team=0&id='][499]"
   ]
  },
  {
   "cell_type": "code",
   "execution_count": 14,
   "metadata": {},
   "outputs": [
    {
     "data": {
      "text/plain": [
       "tensor([ 0.1366, -0.1194,  0.1916,  0.1916])"
      ]
     },
     "execution_count": 14,
     "metadata": {},
     "output_type": "execute_result"
    }
   ],
   "source": [
    "data['observations']['Person1?team=0&id=0'][502]"
   ]
  },
  {
   "cell_type": "code",
   "execution_count": 32,
   "metadata": {},
   "outputs": [],
   "source": [
    "obs = env.reset()"
   ]
  },
  {
   "cell_type": "code",
   "execution_count": 37,
   "metadata": {},
   "outputs": [
    {
     "data": {
      "text/plain": [
       "({'Person1?team=0&id=0': array([0.4382692 , 0.39615637, 0.2895673 , 0.2895673 ], dtype=float32),\n",
       "  'Person1?team=0&id=2': array([ 0.19003159, -0.4264254 ,  0.2895673 ,  0.2895673 ], dtype=float32)},\n",
       " {'Person1?team=0&id=0': 0.004082203, 'Person1?team=0&id=2': -0.0014539718},\n",
       " {'Person1?team=0&id=0': False,\n",
       "  'Person1?team=0&id=2': False,\n",
       "  '__all__': False},\n",
       " {'final_obs': {},\n",
       "  'final_rewards': {},\n",
       "  'm_mean_dist': array([5.845772], dtype=float32),\n",
       "  'm_mean_speed': array([0.], dtype=float32),\n",
       "  'm_mean_finish': array([0.], dtype=float32),\n",
       "  'm_mean_collision': array([0.], dtype=float32)})"
      ]
     },
     "execution_count": 37,
     "metadata": {},
     "output_type": "execute_result"
    }
   ],
   "source": [
    "env.step({k: np.array([1, 1]) for k in obs})"
   ]
  },
  {
   "cell_type": "code",
   "execution_count": 5,
   "metadata": {},
   "outputs": [
    {
     "name": "stdout",
     "output_type": "stream",
     "text": [
      "> \u001b[0;32m/Users/redtachyon/projects/CrowdAI/training/collectors.py\u001b[0m(192)\u001b[0;36m<dictcomp>\u001b[0;34m()\u001b[0m\n",
      "\u001b[0;32m    190 \u001b[0;31m        \u001b[0;32melse\u001b[0m\u001b[0;34m:\u001b[0m\u001b[0;34m\u001b[0m\u001b[0;34m\u001b[0m\u001b[0m\n",
      "\u001b[0m\u001b[0;32m    191 \u001b[0;31m            \u001b[0;31m# all_metrics = info_dict[\"metrics\"]\u001b[0m\u001b[0;34m\u001b[0m\u001b[0;34m\u001b[0m\u001b[0;34m\u001b[0m\u001b[0m\n",
      "\u001b[0m\u001b[0;32m--> 192 \u001b[0;31m            \u001b[0mall_metrics\u001b[0m \u001b[0;34m=\u001b[0m \u001b[0;34m{\u001b[0m\u001b[0mk\u001b[0m\u001b[0;34m:\u001b[0m \u001b[0mv\u001b[0m \u001b[0;32mfor\u001b[0m \u001b[0mk\u001b[0m\u001b[0;34m,\u001b[0m \u001b[0mv\u001b[0m \u001b[0;32min\u001b[0m \u001b[0minfo_dict\u001b[0m \u001b[0;32mif\u001b[0m \u001b[0mk\u001b[0m\u001b[0;34m.\u001b[0m\u001b[0mstartswith\u001b[0m\u001b[0;34m(\u001b[0m\u001b[0;34m\"m_\"\u001b[0m\u001b[0;34m)\u001b[0m\u001b[0;34m}\u001b[0m\u001b[0;34m\u001b[0m\u001b[0;34m\u001b[0m\u001b[0m\n",
      "\u001b[0m\u001b[0;32m    193 \u001b[0;31m\u001b[0;34m\u001b[0m\u001b[0m\n",
      "\u001b[0m\u001b[0;32m    194 \u001b[0;31m        \u001b[0;32mfor\u001b[0m \u001b[0mkey\u001b[0m \u001b[0;32min\u001b[0m \u001b[0mall_metrics\u001b[0m\u001b[0;34m:\u001b[0m\u001b[0;34m\u001b[0m\u001b[0;34m\u001b[0m\u001b[0m\n",
      "\u001b[0m\n"
     ]
    },
    {
     "name": "stdin",
     "output_type": "stream",
     "text": [
      "ipdb>  info_dict\n"
     ]
    },
    {
     "name": "stdout",
     "output_type": "stream",
     "text": [
      "*** NameError: name 'info_dict' is not defined\n"
     ]
    },
    {
     "name": "stdin",
     "output_type": "stream",
     "text": [
      "ipdb>  key\n"
     ]
    },
    {
     "name": "stdout",
     "output_type": "stream",
     "text": [
      "*** NameError: name 'key' is not defined\n"
     ]
    },
    {
     "name": "stdin",
     "output_type": "stream",
     "text": [
      "ipdb>  next_obs\n"
     ]
    },
    {
     "name": "stdout",
     "output_type": "stream",
     "text": [
      "*** NameError: name 'next_obs' is not defined\n"
     ]
    },
    {
     "name": "stdin",
     "output_type": "stream",
     "text": [
      "ipdb>  ls\n"
     ]
    },
    {
     "name": "stdout",
     "output_type": "stream",
     "text": [
      "*** NameError: name 'ls' is not defined\n"
     ]
    },
    {
     "name": "stdin",
     "output_type": "stream",
     "text": [
      "ipdb>  l\n"
     ]
    },
    {
     "name": "stdout",
     "output_type": "stream",
     "text": [
      "\u001b[1;32m    187 \u001b[0m            \u001b[0;32mfor\u001b[0m \u001b[0mkey\u001b[0m \u001b[0;32min\u001b[0m \u001b[0minfo_dict\u001b[0m\u001b[0;34m[\u001b[0m\u001b[0;36m0\u001b[0m\u001b[0;34m]\u001b[0m\u001b[0;34m.\u001b[0m\u001b[0mkeys\u001b[0m\u001b[0;34m(\u001b[0m\u001b[0;34m)\u001b[0m\u001b[0;34m:\u001b[0m\u001b[0;34m\u001b[0m\u001b[0;34m\u001b[0m\u001b[0m\n",
      "\u001b[1;32m    188 \u001b[0m                \u001b[0;32mif\u001b[0m \u001b[0mkey\u001b[0m\u001b[0;34m.\u001b[0m\u001b[0mstartswith\u001b[0m\u001b[0;34m(\u001b[0m\u001b[0;34m\"m_\"\u001b[0m\u001b[0;34m)\u001b[0m\u001b[0;34m:\u001b[0m\u001b[0;34m\u001b[0m\u001b[0;34m\u001b[0m\u001b[0m\n",
      "\u001b[1;32m    189 \u001b[0m                    \u001b[0mall_metrics\u001b[0m\u001b[0;34m[\u001b[0m\u001b[0mkey\u001b[0m\u001b[0;34m]\u001b[0m \u001b[0;34m=\u001b[0m \u001b[0mnp\u001b[0m\u001b[0;34m.\u001b[0m\u001b[0mconcatenate\u001b[0m\u001b[0;34m(\u001b[0m\u001b[0;34m[\u001b[0m\u001b[0mval\u001b[0m\u001b[0;34m[\u001b[0m\u001b[0mkey\u001b[0m\u001b[0;34m]\u001b[0m \u001b[0;32mfor\u001b[0m \u001b[0mval\u001b[0m \u001b[0;32min\u001b[0m \u001b[0minfo_dict\u001b[0m\u001b[0;34m]\u001b[0m\u001b[0;34m)\u001b[0m\u001b[0;34m\u001b[0m\u001b[0;34m\u001b[0m\u001b[0m\n",
      "\u001b[1;32m    190 \u001b[0m        \u001b[0;32melse\u001b[0m\u001b[0;34m:\u001b[0m\u001b[0;34m\u001b[0m\u001b[0;34m\u001b[0m\u001b[0m\n",
      "\u001b[1;32m    191 \u001b[0m            \u001b[0;31m# all_metrics = info_dict[\"metrics\"]\u001b[0m\u001b[0;34m\u001b[0m\u001b[0;34m\u001b[0m\u001b[0;34m\u001b[0m\u001b[0m\n",
      "\u001b[0;32m--> 192 \u001b[0;31m            \u001b[0mall_metrics\u001b[0m \u001b[0;34m=\u001b[0m \u001b[0;34m{\u001b[0m\u001b[0mk\u001b[0m\u001b[0;34m:\u001b[0m \u001b[0mv\u001b[0m \u001b[0;32mfor\u001b[0m \u001b[0mk\u001b[0m\u001b[0;34m,\u001b[0m \u001b[0mv\u001b[0m \u001b[0;32min\u001b[0m \u001b[0minfo_dict\u001b[0m \u001b[0;32mif\u001b[0m \u001b[0mk\u001b[0m\u001b[0;34m.\u001b[0m\u001b[0mstartswith\u001b[0m\u001b[0;34m(\u001b[0m\u001b[0;34m\"m_\"\u001b[0m\u001b[0;34m)\u001b[0m\u001b[0;34m}\u001b[0m\u001b[0;34m\u001b[0m\u001b[0;34m\u001b[0m\u001b[0m\n",
      "\u001b[0m\u001b[1;32m    193 \u001b[0m\u001b[0;34m\u001b[0m\u001b[0m\n",
      "\u001b[1;32m    194 \u001b[0m        \u001b[0;32mfor\u001b[0m \u001b[0mkey\u001b[0m \u001b[0;32min\u001b[0m \u001b[0mall_metrics\u001b[0m\u001b[0;34m:\u001b[0m\u001b[0;34m\u001b[0m\u001b[0;34m\u001b[0m\u001b[0m\n",
      "\u001b[1;32m    195 \u001b[0m            \u001b[0mmetrics\u001b[0m\u001b[0;34m.\u001b[0m\u001b[0msetdefault\u001b[0m\u001b[0;34m(\u001b[0m\u001b[0mkey\u001b[0m\u001b[0;34m[\u001b[0m\u001b[0;36m2\u001b[0m\u001b[0;34m:\u001b[0m\u001b[0;34m]\u001b[0m\u001b[0;34m,\u001b[0m \u001b[0;34m[\u001b[0m\u001b[0;34m]\u001b[0m\u001b[0;34m)\u001b[0m\u001b[0;34m.\u001b[0m\u001b[0mappend\u001b[0m\u001b[0;34m(\u001b[0m\u001b[0mall_metrics\u001b[0m\u001b[0;34m[\u001b[0m\u001b[0mkey\u001b[0m\u001b[0;34m]\u001b[0m\u001b[0;34m)\u001b[0m\u001b[0;34m\u001b[0m\u001b[0;34m\u001b[0m\u001b[0m\n",
      "\u001b[1;32m    196 \u001b[0m\u001b[0;34m\u001b[0m\u001b[0m\n",
      "\u001b[1;32m    197 \u001b[0m        \u001b[0mmemory\u001b[0m\u001b[0;34m.\u001b[0m\u001b[0mstore\u001b[0m\u001b[0;34m(\u001b[0m\u001b[0mobs_dict\u001b[0m\u001b[0;34m,\u001b[0m \u001b[0maction_dict\u001b[0m\u001b[0;34m,\u001b[0m \u001b[0mreward_dict\u001b[0m\u001b[0;34m,\u001b[0m \u001b[0mvalues_dict\u001b[0m\u001b[0;34m,\u001b[0m \u001b[0mdone_dict\u001b[0m\u001b[0;34m)\u001b[0m\u001b[0;34m\u001b[0m\u001b[0;34m\u001b[0m\u001b[0m\n",
      "\n"
     ]
    },
    {
     "name": "stdin",
     "output_type": "stream",
     "text": [
      "ipdb>  q\n"
     ]
    }
   ],
   "source": [
    "import pdb; pdb.pm()"
   ]
  }
 ],
 "metadata": {
  "kernelspec": {
   "display_name": "Poetry 3.8 (MARL)",
   "language": "python",
   "name": "marl"
  },
  "language_info": {
   "codemirror_mode": {
    "name": "ipython",
    "version": 3
   },
   "file_extension": ".py",
   "mimetype": "text/x-python",
   "name": "python",
   "nbconvert_exporter": "python",
   "pygments_lexer": "ipython3",
   "version": "3.8.3"
  }
 },
 "nbformat": 4,
 "nbformat_minor": 4
}
