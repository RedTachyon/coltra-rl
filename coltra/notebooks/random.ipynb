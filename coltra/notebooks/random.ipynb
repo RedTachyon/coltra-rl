{
 "cells": [
  {
   "cell_type": "code",
   "execution_count": 2,
   "metadata": {},
   "outputs": [],
   "source": [
    "def next_num(x: str):\n",
    "    res = \"\"\n",
    "    ct = 0\n",
    "    num = None\n",
    "    for n in x:\n",
    "        if num is None:\n",
    "            num = n\n",
    "            ct = 1\n",
    "        elif n == num:\n",
    "            ct += 1\n",
    "        else:  # n != num\n",
    "            res = res + str(ct) + num\n",
    "            num = n\n",
    "            ct = 1\n",
    "            \n",
    "    res = res + str(ct) + num\n",
    "    \n",
    "    return res"
   ]
  },
  {
   "cell_type": "code",
   "execution_count": 3,
   "metadata": {},
   "outputs": [],
   "source": [
    "import numpy as np\n",
    "import matplotlib.pyplot as plt\n",
    "import seaborn as sns\n",
    "sns.set()\n",
    "from tqdm import trange"
   ]
  },
  {
   "cell_type": "code",
   "execution_count": 4,
   "metadata": {},
   "outputs": [
    {
     "name": "stderr",
     "output_type": "stream",
     "text": [
      "100%|██████████| 39/39 [00:00<00:00, 254.37it/s]\n"
     ]
    }
   ],
   "source": [
    "nums = []\n",
    "num = \"1\"\n",
    "for _ in trange(39):\n",
    "#     print(num)\n",
    "    nums.append(int(num))\n",
    "    num = next_num(num)"
   ]
  },
  {
   "cell_type": "code",
   "execution_count": null,
   "metadata": {},
   "outputs": [],
   "source": []
  },
  {
   "cell_type": "code",
   "execution_count": 17,
   "metadata": {},
   "outputs": [
    {
     "name": "stdout",
     "output_type": "stream",
     "text": [
      "[1, 11, 21, 1211, 111221, 312211, 13112221, 1113213211]\n"
     ]
    },
    {
     "data": {
      "text/plain": [
       "[<matplotlib.lines.Line2D at 0x7fa3a8922400>]"
      ]
     },
     "execution_count": 17,
     "metadata": {},
     "output_type": "execute_result"
    },
    {
     "data": {
      "image/png": "[encoded data removed]",
      "text/plain": [
       "<Figure size 432x288 with 1 Axes>"
      ]
     },
     "metadata": {},
     "output_type": "display_data"
    }
   ],
   "source": [
    "NUM = 8\n",
    "print(nums[:NUM])\n",
    "plt.plot(nums[:NUM])"
   ]
  },
  {
   "cell_type": "code",
   "execution_count": 27,
   "metadata": {},
   "outputs": [],
   "source": [
    "import random\n",
    "\n",
    "def experiment(threshold):\n",
    "    s = 0\n",
    "    i = 0\n",
    "    while s < threshold:\n",
    "        r = random.random()\n",
    "        s += r\n",
    "        i += 1\n",
    "    \n",
    "    return i"
   ]
  },
  {
   "cell_type": "code",
   "execution_count": 104,
   "metadata": {},
   "outputs": [],
   "source": [
    "import matplotlib.pyplot as plt"
   ]
  },
  {
   "cell_type": "code",
   "execution_count": 94,
   "metadata": {},
   "outputs": [],
   "source": [
    "def func_sum(*args):\n",
    "    def _inner(x):\n",
    "        return sum((func(x) for func in args))\n",
    "    return _inner"
   ]
  },
  {
   "cell_type": "code",
   "execution_count": 95,
   "metadata": {},
   "outputs": [],
   "source": [
    "import numpy as np"
   ]
  },
  {
   "cell_type": "code",
   "execution_count": 96,
   "metadata": {},
   "outputs": [],
   "source": [
    "def get_normal(mu: float, std: float):\n",
    "    def _inner(x):\n",
    "        return 1 / (std * np.sqrt(2*np.pi)) * np.exp(-0.5 * ((x-mu)/std)**2)\n",
    "    return _inner"
   ]
  },
  {
   "cell_type": "code",
   "execution_count": 103,
   "metadata": {},
   "outputs": [],
   "source": [
    "gn = get_normal(0, 1)"
   ]
  },
  {
   "cell_type": "code",
   "execution_count": 119,
   "metadata": {},
   "outputs": [],
   "source": [
    "std = 0.07\n",
    "\n",
    "multi_normal = func_sum(get_normal(0.6, std), get_normal(0, std), get_normal(-0.25, std))"
   ]
  },
  {
   "cell_type": "code",
   "execution_count": 120,
   "metadata": {},
   "outputs": [
    {
     "data": {
      "text/plain": [
       "[<matplotlib.lines.Line2D at 0x7fa1702f9160>]"
      ]
     },
     "execution_count": 120,
     "metadata": {},
     "output_type": "execute_result"
    },
    {
     "data": {
      "image/png": "[encoded data removed]",
      "text/plain": [
       "<Figure size 432x288 with 1 Axes>"
      ]
     },
     "metadata": {
      "needs_background": "light"
     },
     "output_type": "display_data"
    }
   ],
   "source": [
    "X = np.linspace(-0.5, 1, 1000)\n",
    "plt.plot(X, [multi_normal(x) for x in X])"
   ]
  },
  {
   "cell_type": "code",
   "execution_count": null,
   "metadata": {},
   "outputs": [],
   "source": [
    "experiment(0.5)"
   ]
  },
  {
   "cell_type": "code",
   "execution_count": 14,
   "metadata": {},
   "outputs": [],
   "source": [
    "import numpy as np"
   ]
  },
  {
   "cell_type": "code",
   "execution_count": 35,
   "metadata": {},
   "outputs": [
    {
     "data": {
      "text/plain": [
       "array([0. , 0.1, 0.2, 0.3, 0.4, 0.5, 0.6, 0.7, 0.8, 0.9, 1. ])"
      ]
     },
     "execution_count": 35,
     "metadata": {},
     "output_type": "execute_result"
    }
   ],
   "source": [
    "np.linspace(0, 1, 11)"
   ]
  },
  {
   "cell_type": "code",
   "execution_count": 42,
   "metadata": {},
   "outputs": [],
   "source": [
    "results = {1-p: np.array([experiment(p) for _ in range(100000)]).mean() - 1 for p in np.linspace(0, 1, 21)}"
   ]
  },
  {
   "cell_type": "code",
   "execution_count": 43,
   "metadata": {},
   "outputs": [
    {
     "data": {
      "text/plain": [
       "{1.0: -1.0,\n",
       " 0.95: 0.0521100000000001,\n",
       " 0.9: 0.10446,\n",
       " 0.85: 0.1606700000000001,\n",
       " 0.8: 0.21961000000000008,\n",
       " 0.75: 0.28501,\n",
       " 0.7: 0.3472599999999999,\n",
       " 0.6499999999999999: 0.42084999999999995,\n",
       " 0.6: 0.49193,\n",
       " 0.55: 0.5705499999999999,\n",
       " 0.5: 0.64737,\n",
       " 0.44999999999999996: 0.73454,\n",
       " 0.3999999999999999: 0.8240700000000001,\n",
       " 0.35: 0.9172899999999999,\n",
       " 0.29999999999999993: 1.00603,\n",
       " 0.25: 1.1140400000000001,\n",
       " 0.19999999999999996: 1.22756,\n",
       " 0.1499999999999999: 1.3388499999999999,\n",
       " 0.09999999999999998: 1.45879,\n",
       " 0.04999999999999993: 1.5815700000000001,\n",
       " 0.0: 1.7150500000000002}"
      ]
     },
     "execution_count": 43,
     "metadata": {},
     "output_type": "execute_result"
    }
   ],
   "source": [
    "results"
   ]
  },
  {
   "cell_type": "code",
   "execution_count": 57,
   "metadata": {},
   "outputs": [],
   "source": [
    "def game(threshold):\n",
    "    # Draw cards\n",
    "    t = 0\n",
    "    while t < threshold:\n",
    "        t += random.random()\n",
    "        \n",
    "    if t > 1:\n",
    "        return 0\n",
    "        \n",
    "    dealer = 0\n",
    "    while dealer < t:\n",
    "        dealer += random.random()\n",
    "        \n",
    "    if dealer > 1:\n",
    "        return 1\n",
    "    else:\n",
    "        return 0\n",
    "    \n",
    "    "
   ]
  },
  {
   "cell_type": "code",
   "execution_count": 58,
   "metadata": {},
   "outputs": [],
   "source": [
    "def run_experiment(threshold: float, num_experiments: int = 1000):\n",
    "    return np.mean([game(threshold) for _ in range(num_experiments)])"
   ]
  },
  {
   "cell_type": "code",
   "execution_count": 66,
   "metadata": {},
   "outputs": [
    {
     "data": {
      "text/plain": [
       "0.3421"
      ]
     },
     "execution_count": 66,
     "metadata": {},
     "output_type": "execute_result"
    }
   ],
   "source": [
    "run_experiment(.8, 10000)"
   ]
  },
  {
   "cell_type": "code",
   "execution_count": 89,
   "metadata": {},
   "outputs": [],
   "source": [
    "X = np.linspace(0, 1, 201)\n",
    "results = np.array([run_experiment(p, 100000) for p in X])"
   ]
  },
  {
   "cell_type": "code",
   "execution_count": 93,
   "metadata": {},
   "outputs": [
    {
     "data": {
      "text/plain": [
       "[<matplotlib.lines.Line2D at 0x7fa1507d85e0>]"
      ]
     },
     "execution_count": 93,
     "metadata": {},
     "output_type": "execute_result"
    },
    {
     "data": {
      "image/png": "[encoded data removed]",
      "text/plain": [
       "<Figure size 432x288 with 1 Axes>"
      ]
     },
     "metadata": {
      "needs_background": "light"
     },
     "output_type": "display_data"
    }
   ],
   "source": [
    "plt.plot(X, results)"
   ]
  },
  {
   "cell_type": "code",
   "execution_count": 92,
   "metadata": {},
   "outputs": [
    {
     "data": {
      "text/plain": [
       "0.58"
      ]
     },
     "execution_count": 92,
     "metadata": {},
     "output_type": "execute_result"
    }
   ],
   "source": [
    "X[results.argmax()]"
   ]
  },
  {
   "cell_type": "code",
   "execution_count": 25,
   "metadata": {},
   "outputs": [],
   "source": [
    "import math"
   ]
  },
  {
   "cell_type": "code",
   "execution_count": 26,
   "metadata": {},
   "outputs": [
    {
     "data": {
      "text/plain": [
       "2.718281828459045"
      ]
     },
     "execution_count": 26,
     "metadata": {},
     "output_type": "execute_result"
    }
   ],
   "source": [
    "math.e"
   ]
  }
 ],
 "metadata": {
  "kernelspec": {
   "display_name": "Python 3.8 (crowd)",
   "language": "python",
   "name": "crowd"
  },
  "language_info": {
   "codemirror_mode": {
    "name": "ipython",
    "version": 3
   },
   "file_extension": ".py",
   "mimetype": "text/x-python",
   "name": "python",
   "nbconvert_exporter": "python",
   "pygments_lexer": "ipython3",
   "version": "3.8.3"
  }
 },
 "nbformat": 4,
 "nbformat_minor": 4
}
