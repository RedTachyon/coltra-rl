{
 "cells": [
  {
   "cell_type": "code",
   "execution_count": 1,
   "metadata": {},
   "outputs": [],
   "source": [
    "import sys\n",
    "sys.path.insert(0, '../..')\n",
    "\n",
    "import numpy as np\n",
    "import torch\n",
    "from torch import Tensor\n",
    "from coltra.discounting import get_beta_vector, discount_bgae\n",
    "\n",
    "import matplotlib.pyplot as plt"
   ]
  },
  {
   "cell_type": "code",
   "execution_count": 56,
   "metadata": {},
   "outputs": [],
   "source": [
    "from numba import njit"
   ]
  },
  {
   "cell_type": "code",
   "execution_count": 38,
   "metadata": {},
   "outputs": [],
   "source": [
    "def discount_gae(rewards: Tensor, values: Tensor, dones: Tensor, γ: float = 0.99, λ: float = 0.95):\n",
    "\n",
    "    advantages = torch.zeros_like(rewards)\n",
    "    lastgaelam = 0\n",
    "    buffer_size = rewards.shape[0]\n",
    "\n",
    "    for t in reversed(range(buffer_size)):\n",
    "        if t == buffer_size - 1 or dones[t]:\n",
    "            nextvalue = 0.\n",
    "            lastgaelam = 0\n",
    "        else:\n",
    "            nextvalue = values[t + 1]\n",
    "\n",
    "        value = values[t]    \n",
    "        delta = rewards[t] + γ * nextvalue - value\n",
    "        lastgaelam = delta + γ * λ * lastgaelam\n",
    "        \n",
    "        advantages[t] = lastgaelam\n",
    "\n",
    "    returns = advantages + values\n",
    "\n",
    "    return returns, advantages"
   ]
  },
  {
   "cell_type": "code",
   "execution_count": 68,
   "metadata": {},
   "outputs": [],
   "source": [
    "@njit\n",
    "def fast_discount_gae(rewards: np.ndarray, values: np.ndarray, dones: np.ndarray, γ: float = 0.99, λ: float = 0.95):\n",
    "    \n",
    "    advantages = np.zeros_like(rewards)\n",
    "    lastgaelam = 0\n",
    "    buffer_size = rewards.shape[0]\n",
    "\n",
    "    for t in range(buffer_size - 1, -1, -1):\n",
    "        if t == buffer_size - 1 or dones[t]:\n",
    "            nextvalue = 0.\n",
    "            lastgaelam = 0\n",
    "        else:\n",
    "            nextvalue = values[t + 1]\n",
    "\n",
    "        value = values[t]    \n",
    "        delta = rewards[t] + γ * nextvalue - value\n",
    "        lastgaelam = delta + γ * λ * lastgaelam\n",
    "        \n",
    "        advantages[t] = lastgaelam\n",
    "\n",
    "    returns = advantages + values\n",
    "\n",
    "    return returns, advantages"
   ]
  },
  {
   "cell_type": "code",
   "execution_count": 69,
   "metadata": {},
   "outputs": [],
   "source": [
    "rewards = torch.cat([torch.zeros(10), torch.zeros(10) + 1, torch.zeros(10) + 2])\n",
    "values = torch.cat([torch.zeros(10), torch.zeros(10) + 1, torch.zeros(10) + 2])\n",
    "dones = torch.tensor([False if (t+1) % 5 else True for t in range(30)]).to(torch.float)\n",
    "\n",
    "returns, advantages = discount_bgae(rewards, values, dones, 0.9, 0., 0.95)"
   ]
  },
  {
   "cell_type": "code",
   "execution_count": 47,
   "metadata": {},
   "outputs": [],
   "source": [
    "returnsg, advantagesg = discount_gae(rewards, values, dones, 0.9, 0.95)"
   ]
  },
  {
   "cell_type": "code",
   "execution_count": 70,
   "metadata": {},
   "outputs": [],
   "source": [
    "returnsg, advantagesg = fast_discount_gae(rewards.numpy(), values.numpy(), dones.numpy(), 0.9, 0.95)"
   ]
  },
  {
   "cell_type": "code",
   "execution_count": 48,
   "metadata": {},
   "outputs": [
    {
     "data": {
      "text/plain": [
       "tensor([[0.0000, 0.0000, 0.0000, 0.0000, 0.0000],\n",
       "        [0.0000, 0.0000, 0.0000, 0.0000, 0.0000],\n",
       "        [2.8899, 2.3274, 1.6695, 0.9000, 0.0000],\n",
       "        [2.8899, 2.3274, 1.6695, 0.9000, 0.0000],\n",
       "        [5.7799, 4.6548, 3.3390, 1.8000, 0.0000],\n",
       "        [5.7799, 4.6548, 3.3390, 1.8000, 0.0000]])"
      ]
     },
     "execution_count": 48,
     "metadata": {},
     "output_type": "execute_result"
    }
   ],
   "source": [
    "advantages.view(6,5)"
   ]
  },
  {
   "cell_type": "code",
   "execution_count": 49,
   "metadata": {},
   "outputs": [
    {
     "data": {
      "text/plain": [
       "tensor([[0.0000, 0.0000, 0.0000, 0.0000, 0.0000],\n",
       "        [0.0000, 0.0000, 0.0000, 0.0000, 0.0000],\n",
       "        [2.8899, 2.3274, 1.6695, 0.9000, 0.0000],\n",
       "        [2.8899, 2.3274, 1.6695, 0.9000, 0.0000],\n",
       "        [5.7799, 4.6548, 3.3390, 1.8000, 0.0000],\n",
       "        [5.7799, 4.6548, 3.3390, 1.8000, 0.0000]])"
      ]
     },
     "execution_count": 49,
     "metadata": {},
     "output_type": "execute_result"
    }
   ],
   "source": [
    "advantagesg.view(6,5)"
   ]
  },
  {
   "cell_type": "code",
   "execution_count": 71,
   "metadata": {},
   "outputs": [
    {
     "name": "stdout",
     "output_type": "stream",
     "text": [
      "60.6 ms ± 843 µs per loop (mean ± std. dev. of 7 runs, 10 loops each)\n"
     ]
    }
   ],
   "source": [
    "%%timeit\n",
    "\n",
    "rewards = torch.randn(80000)\n",
    "values = torch.zeros(80000)\n",
    "dones = torch.tensor([False if (t+1) % 1000 else True for t in range(80000)])\n",
    "dones[-1] = True\n",
    "\n",
    "returns, advantages = discount_bgae(rewards, values, dones, 0.99, 0.5, 0.95)"
   ]
  },
  {
   "cell_type": "code",
   "execution_count": 72,
   "metadata": {},
   "outputs": [
    {
     "name": "stdout",
     "output_type": "stream",
     "text": [
      "2.32 s ± 35.1 ms per loop (mean ± std. dev. of 7 runs, 1 loop each)\n"
     ]
    }
   ],
   "source": [
    "%%timeit\n",
    "\n",
    "rewards = torch.randn(80000)\n",
    "values = torch.zeros(80000)\n",
    "dones = torch.tensor([False if (t+1) % 1000 else True for t in range(80000)])\n",
    "dones[-1] = True\n",
    "\n",
    "returns, advantages = discount_gae(rewards, values, dones, 0.99, 0.95)"
   ]
  },
  {
   "cell_type": "code",
   "execution_count": 73,
   "metadata": {},
   "outputs": [
    {
     "name": "stdout",
     "output_type": "stream",
     "text": [
      "9.48 ms ± 122 µs per loop (mean ± std. dev. of 7 runs, 100 loops each)\n"
     ]
    }
   ],
   "source": [
    "%%timeit\n",
    "\n",
    "rewards = torch.randn(80000).numpy()\n",
    "values = torch.zeros(80000).numpy()\n",
    "dones = torch.tensor([False if (t+1) % 1000 else True for t in range(80000)]).to(torch.float).numpy()\n",
    "dones[-1] = 1.\n",
    "\n",
    "returns, advantages = fast_discount_gae(rewards, values, dones, 0.99, 0.95)"
   ]
  },
  {
   "cell_type": "code",
   "execution_count": 16,
   "metadata": {},
   "outputs": [
    {
     "data": {
      "text/plain": [
       "tensor([16.1373, 16.1373, 16.0852, 16.0852, 16.0299, 16.0299, 15.9712, 15.9712,\n",
       "        15.9089, 15.9089, 15.8429, 15.8429, 15.7727, 15.7727, 15.6983, 15.6983,\n",
       "        15.6193, 15.6193, 15.5354, 15.5354, 15.4464, 15.4464, 15.3519, 15.3519,\n",
       "        15.2516, 15.2516, 15.1451, 15.1451, 15.0320, 15.0320, 14.9120, 14.9120,\n",
       "        14.7846, 14.7846, 14.6493, 14.6493, 14.5056, 14.5056, 14.3531, 14.3531,\n",
       "        14.1911, 14.1911, 14.0191, 14.0191, 13.8364, 13.8364, 13.6424, 13.6424,\n",
       "        13.4364, 13.4364, 13.2176, 13.2176, 12.9852, 12.9852, 12.7384, 12.7384,\n",
       "        12.4762, 12.4762, 12.1977, 12.1977, 11.9018, 11.9018, 11.5875, 11.5875,\n",
       "        11.2536, 11.2536, 10.8989, 10.8989, 10.5219, 10.5219, 10.1215, 10.1215,\n",
       "         9.6959,  9.6959,  9.2438,  9.2438,  8.7632,  8.7632,  8.2526,  8.2526,\n",
       "         7.7099,  7.7099,  7.1332,  7.1332,  6.5202,  6.5202,  5.8686,  5.8686,\n",
       "         5.1760,  5.1760,  4.4398,  4.4398,  3.6571,  3.6571,  2.8251,  2.8251,\n",
       "         1.9405,  1.9405,  1.0000,  1.0000])"
      ]
     },
     "execution_count": 16,
     "metadata": {},
     "output_type": "execute_result"
    }
   ],
   "source": [
    "returns"
   ]
  },
  {
   "cell_type": "code",
   "execution_count": 10,
   "metadata": {},
   "outputs": [
    {
     "data": {
      "text/plain": [
       "<matplotlib.legend.Legend at 0x7fd928c73490>"
      ]
     },
     "execution_count": 10,
     "metadata": {},
     "output_type": "execute_result"
    },
    {
     "data": {
      "image/png": "[encoded data removed]",
      "text/plain": [
       "<Figure size 432x288 with 1 Axes>"
      ]
     },
     "metadata": {
      "needs_background": "light"
     },
     "output_type": "display_data"
    }
   ],
   "source": [
    "plt.plot(advantages0, label=\"Exp\")\n",
    "plt.plot(advantages05, label=\"Beta\")\n",
    "plt.plot(advantages1, label=\"Hyper\")\n",
    "\n",
    "plt.legend()"
   ]
  },
  {
   "cell_type": "code",
   "execution_count": 9,
   "metadata": {},
   "outputs": [],
   "source": [
    "λ = 0.95\n",
    "ep_len = 100\n",
    "T = 1000\n",
    "\n",
    "\n",
    "rewards = torch.ones(T)\n",
    "values = torch.zeros(T)\n",
    "dones = torch.tensor([False for _ in range(T)])\n",
    "\n",
    "\n",
    "_, advantages0 = discount_bgae(rewards, values, dones, 0.99, 0., λ, ep_len)\n",
    "_, advantages05 = discount_bgae(rewards, values, dones, 0.99, 0.5, λ, ep_len)\n",
    "_, advantages1 = discount_bgae(rewards, values, dones, 0.99, 1., λ, ep_len)"
   ]
  },
  {
   "cell_type": "code",
   "execution_count": 68,
   "metadata": {},
   "outputs": [
    {
     "data": {
      "text/plain": [
       "tensor([0.0028, 0.0029, 0.0031, 0.0033, 0.0035, 0.0037, 0.0039, 0.0042, 0.0044,\n",
       "        0.0047, 0.0050, 0.0053, 0.0056, 0.0059, 0.0063, 0.0066, 0.0070, 0.0075,\n",
       "        0.0079, 0.0084, 0.0089, 0.0094, 0.0100, 0.0106, 0.0112, 0.0119, 0.0126,\n",
       "        0.0134, 0.0142, 0.0151, 0.0160, 0.0170, 0.0180, 0.0191, 0.0202, 0.0215,\n",
       "        0.0228, 0.0241, 0.0256, 0.0272, 0.0288, 0.0306, 0.0324, 0.0344, 0.0365,\n",
       "        0.0387, 0.0411, 0.0436, 0.0463, 0.0491, 0.0521, 0.0553, 0.0587, 0.0623,\n",
       "        0.0661, 0.0701, 0.0744, 0.0790, 0.0839, 0.0890, 0.0945, 0.1003, 0.1065,\n",
       "        0.1131, 0.1200, 0.1274, 0.1353, 0.1437, 0.1525, 0.1620, 0.1720, 0.1827,\n",
       "        0.1940, 0.2060, 0.2188, 0.2324, 0.2468, 0.2622, 0.2785, 0.2959, 0.3143,\n",
       "        0.3339, 0.3548, 0.3769, 0.4005, 0.4255, 0.4522, 0.4805, 0.5106, 0.5427,\n",
       "        0.5768, 0.6130, 0.6516, 0.6926, 0.7362, 0.7826, 0.8320, 0.8846, 0.9405,\n",
       "        1.0000])"
      ]
     },
     "execution_count": 68,
     "metadata": {},
     "output_type": "execute_result"
    }
   ],
   "source": [
    "advantages05"
   ]
  },
  {
   "cell_type": "code",
   "execution_count": 58,
   "metadata": {},
   "outputs": [
    {
     "data": {
      "text/plain": [
       "tensor([0.0031, 0.0033, 0.0035, 0.0037, 0.0039, 0.0041, 0.0044, 0.0046, 0.0049,\n",
       "        0.0052, 0.0055, 0.0058, 0.0061, 0.0065, 0.0069, 0.0073, 0.0077, 0.0082,\n",
       "        0.0086, 0.0091, 0.0097, 0.0102, 0.0108, 0.0115, 0.0121, 0.0129, 0.0136,\n",
       "        0.0144, 0.0153, 0.0162, 0.0171, 0.0181, 0.0192, 0.0203, 0.0215, 0.0228,\n",
       "        0.0241, 0.0256, 0.0271, 0.0287, 0.0304, 0.0322, 0.0341, 0.0361, 0.0383,\n",
       "        0.0406, 0.0430, 0.0455, 0.0482, 0.0511, 0.0542, 0.0574, 0.0609, 0.0645,\n",
       "        0.0684, 0.0725, 0.0768, 0.0814, 0.0863, 0.0915, 0.0970, 0.1029, 0.1091,\n",
       "        0.1157, 0.1227, 0.1301, 0.1380, 0.1464, 0.1553, 0.1647, 0.1747, 0.1854,\n",
       "        0.1967, 0.2087, 0.2215, 0.2350, 0.2494, 0.2647, 0.2810, 0.2982, 0.3166,\n",
       "        0.3361, 0.3568, 0.3789, 0.4023, 0.4273, 0.4538, 0.4819, 0.5119, 0.5438,\n",
       "        0.5777, 0.6138, 0.6522, 0.6931, 0.7366, 0.7829, 0.8322, 0.8846, 0.9405,\n",
       "        1.0000])"
      ]
     },
     "execution_count": 58,
     "metadata": {},
     "output_type": "execute_result"
    }
   ],
   "source": [
    "advantages1"
   ]
  },
  {
   "cell_type": "code",
   "execution_count": 9,
   "metadata": {},
   "outputs": [
    {
     "data": {
      "text/plain": [
       "tensor([99.3429, 99.3363, 99.3296, 99.3228, 99.3160, 99.3091, 99.3021, 99.2950,\n",
       "        99.2879, 99.2807, 99.2735, 99.2661, 99.2587, 99.2512, 99.2437, 99.2360,\n",
       "        99.2283, 99.2205, 99.2126, 99.2047, 99.1966, 99.1885, 99.1803, 99.1721,\n",
       "        99.1637, 99.1552, 99.1467, 99.1381, 99.1294, 99.1206, 99.1117, 99.1027,\n",
       "        99.0937, 99.0845, 99.0753, 99.0659, 99.0565, 99.0470, 99.0373, 99.0276,\n",
       "        99.0178, 99.0079, 98.9978, 98.9877, 98.9775, 98.9672, 98.9567, 98.9462,\n",
       "        98.9356, 98.9248, 98.9139, 98.9030, 98.8919, 98.8807, 98.8694, 98.8580,\n",
       "        98.8464, 98.8348, 98.8230, 98.8111, 98.7991, 98.7870, 98.7747, 98.7624,\n",
       "        98.7499, 98.7372, 98.7245, 98.7116, 98.6986, 98.6854, 98.6722, 98.6588,\n",
       "        98.6452, 98.6315, 98.6177, 98.6037, 98.5896, 98.5754, 98.5610, 98.5465,\n",
       "        98.5318, 98.5169, 98.5020, 98.4868, 98.4715, 98.4561, 98.4405, 98.4248,\n",
       "        98.4089, 98.3928, 98.3765, 98.3602, 98.3436, 98.3269, 98.3100, 98.2929,\n",
       "        98.2756, 98.2582, 98.2406, 98.2229, 98.2049, 98.1868, 98.1685, 98.1500,\n",
       "        98.1313, 98.1124, 98.0933, 98.0741, 98.0546, 98.0350, 98.0151, 97.9951,\n",
       "        97.9748, 97.9544, 97.9337, 97.9128, 97.8918, 97.8705, 97.8490, 97.8272,\n",
       "        97.8053, 97.7831, 97.7607, 97.7381, 97.7153, 97.6922, 97.6689, 97.6453,\n",
       "        97.6215, 97.5975, 97.5732, 97.5487, 97.5240, 97.4990, 97.4737, 97.4482,\n",
       "        97.4224, 97.3964, 97.3701, 97.3435, 97.3167, 97.2896, 97.2622, 97.2345,\n",
       "        97.2066, 97.1784, 97.1499, 97.1211, 97.0920, 97.0626, 97.0330, 97.0030,\n",
       "        96.9727, 96.9422, 96.9113, 96.8801, 96.8486, 96.8167, 96.7846, 96.7521,\n",
       "        96.7193, 96.6861, 96.6527, 96.6189, 96.5847, 96.5502, 96.5154, 96.4802,\n",
       "        96.4446, 96.4087, 96.3724, 96.3358, 96.2988, 96.2614, 96.2236, 96.1855,\n",
       "        96.1469, 96.1080, 96.0687, 96.0290, 95.9889, 95.9484, 95.9074, 95.8661,\n",
       "        95.8244, 95.7822, 95.7396, 95.6965, 95.6531, 95.6092, 95.5648, 95.5200,\n",
       "        95.4748, 95.4291, 95.3829, 95.3363, 95.2891, 95.2416, 95.1935, 95.1449,\n",
       "        95.0959, 95.0464, 94.9963, 94.9458, 94.8947, 94.8432, 94.7911, 94.7385,\n",
       "        94.6853, 94.6316, 94.5774, 94.5226, 94.4673, 94.4114, 94.3550, 94.2980,\n",
       "        94.2404, 94.1822, 94.1234, 94.0641, 94.0041, 93.9435, 93.8824, 93.8206,\n",
       "        93.7581, 93.6951, 93.6314, 93.5671, 93.5021, 93.4365, 93.3702, 93.3032,\n",
       "        93.2355, 93.1672, 93.0982, 93.0285, 92.9581, 92.8869, 92.8151, 92.7425,\n",
       "        92.6692, 92.5952, 92.5204, 92.4448, 92.3685, 92.2914, 92.2135, 92.1349,\n",
       "        92.0555, 91.9752, 91.8941, 91.8123, 91.7296, 91.6460, 91.5616, 91.4764,\n",
       "        91.3903, 91.3033, 91.2155, 91.1268, 91.0371, 90.9466, 90.8551, 90.7628,\n",
       "        90.6695, 90.5752, 90.4800, 90.3839, 90.2867, 90.1886, 90.0895, 89.9894,\n",
       "        89.8883, 89.7861, 89.6830, 89.5788, 89.4735, 89.3672, 89.2598, 89.1513,\n",
       "        89.0417, 88.9310, 88.8192, 88.7063, 88.5922, 88.4770, 88.3606, 88.2430,\n",
       "        88.1242, 88.0043, 87.8831, 87.7607, 87.6371, 87.5122, 87.3861, 87.2587,\n",
       "        87.1300, 87.0000, 86.8686, 86.7360, 86.6020, 86.4667, 86.3300, 86.1919,\n",
       "        86.0524, 85.9116, 85.7692, 85.6255, 85.4803, 85.3336, 85.1855, 85.0359,\n",
       "        84.8847, 84.7320, 84.5778, 84.4220, 84.2647, 84.1057, 83.9452, 83.7830,\n",
       "        83.6192, 83.4537, 83.2866, 83.1178, 82.9473, 82.7750, 82.6010, 82.4253,\n",
       "        82.2477, 82.0684, 81.8873, 81.7043, 81.5195, 81.3329, 81.1443, 80.9538,\n",
       "        80.7615, 80.5671, 80.3708, 80.1726, 79.9723, 79.7700, 79.5657, 79.3592,\n",
       "        79.1507, 78.9401, 78.7274, 78.5126, 78.2955, 78.0763, 77.8548, 77.6311,\n",
       "        77.4052, 77.1769, 76.9464, 76.7135, 76.4783, 76.2407, 76.0007, 75.7583,\n",
       "        75.5135, 75.2661, 75.0163, 74.7639, 74.5090, 74.2515, 73.9914, 73.7287,\n",
       "        73.4634, 73.1953, 72.9246, 72.6511, 72.3748, 72.0958, 71.8139, 71.5292,\n",
       "        71.2416, 70.9511, 70.6577, 70.3613, 70.0620, 69.7596, 69.4541, 69.1455,\n",
       "        68.8339, 68.5191, 68.2011, 67.8799, 67.5554, 67.2277, 66.8967, 66.5623,\n",
       "        66.2246, 65.8834, 65.5388, 65.1907, 64.8391, 64.4839, 64.1252, 63.7628,\n",
       "        63.3968, 63.0270, 62.6536, 62.2763, 61.8953, 61.5104, 61.1216, 60.7289,\n",
       "        60.3322, 59.9315, 59.5268, 59.1180, 58.7050, 58.2879, 57.8666, 57.4410,\n",
       "        57.0111, 56.5769, 56.1382, 55.6952, 55.2477, 54.7956, 54.3390, 53.8778,\n",
       "        53.4119, 52.9413, 52.4660, 51.9859, 51.5009, 51.0110, 50.5161, 50.0163,\n",
       "        49.5114, 49.0014, 48.4863, 47.9659, 47.4403, 46.9094, 46.3732, 45.8315,\n",
       "        45.2843, 44.7317, 44.1734, 43.6095, 43.0399, 42.4645, 41.8834, 41.2963,\n",
       "        40.7034, 40.1044, 39.4994, 38.8883, 38.2710, 37.6475, 37.0176, 36.3815,\n",
       "        35.7388, 35.0897, 34.4341, 33.7718, 33.1028, 32.4271, 31.7445, 31.0551,\n",
       "        30.3587, 29.6552, 28.9447, 28.2269, 27.5020, 26.7697, 26.0300, 25.2828,\n",
       "        24.5281, 23.7657, 22.9957, 22.2179, 21.4322, 20.6386, 19.8369, 19.0272,\n",
       "        18.2093, 17.3831, 16.5486, 15.7057, 14.8542, 13.9942, 13.1254, 12.2479,\n",
       "        11.3615, 10.4662,  9.5618,  8.6483,  7.7255,  6.7935,  5.8520,  4.9010,\n",
       "         3.9404,  2.9701,  1.9900,  1.0000])"
      ]
     },
     "execution_count": 9,
     "metadata": {},
     "output_type": "execute_result"
    }
   ],
   "source": [
    "advantages[:500]"
   ]
  },
  {
   "cell_type": "code",
   "execution_count": null,
   "metadata": {},
   "outputs": [
    {
     "name": "stdout",
     "output_type": "stream",
     "text": [
      "> \u001b[0;32m/Users/redtachyon/projects/CrowdAI/coltra/bgae.py\u001b[0m(65)\u001b[0;36m_discount_bgae\u001b[0;34m()\u001b[0m\n",
      "\u001b[0;32m     63 \u001b[0;31m\u001b[0;34m\u001b[0m\u001b[0m\n",
      "\u001b[0m\u001b[0;32m     64 \u001b[0;31m        \u001b[0mfuture_rewards\u001b[0m \u001b[0;34m=\u001b[0m \u001b[0;34m(\u001b[0m\u001b[0mλ_v\u001b[0m \u001b[0;34m*\u001b[0m \u001b[0mΓ_v\u001b[0m\u001b[0;34m)\u001b[0m \u001b[0;34m@\u001b[0m \u001b[0ms_rewards\u001b[0m\u001b[0;34m\u001b[0m\u001b[0;34m\u001b[0m\u001b[0m\n",
      "\u001b[0m\u001b[0;32m---> 65 \u001b[0;31m        \u001b[0mfuture_values\u001b[0m \u001b[0;34m=\u001b[0m \u001b[0;34m(\u001b[0m\u001b[0;36m1\u001b[0m\u001b[0;34m-\u001b[0m\u001b[0mλ\u001b[0m\u001b[0;34m)\u001b[0m \u001b[0;34m*\u001b[0m \u001b[0;34m(\u001b[0m\u001b[0mλ_v\u001b[0m \u001b[0;34m*\u001b[0m \u001b[0mΓ_v1\u001b[0m\u001b[0;34m)\u001b[0m \u001b[0;34m@\u001b[0m \u001b[0ms_values\u001b[0m\u001b[0;34m\u001b[0m\u001b[0;34m\u001b[0m\u001b[0m\n",
      "\u001b[0m\u001b[0;32m     66 \u001b[0;31m\u001b[0;34m\u001b[0m\u001b[0m\n",
      "\u001b[0m\u001b[0;32m     67 \u001b[0;31m        \u001b[0madvantage\u001b[0m \u001b[0;34m=\u001b[0m \u001b[0;34m-\u001b[0m\u001b[0mold_value\u001b[0m \u001b[0;34m+\u001b[0m \u001b[0mfuture_rewards\u001b[0m \u001b[0;34m+\u001b[0m \u001b[0mfuture_values\u001b[0m\u001b[0;34m\u001b[0m\u001b[0;34m\u001b[0m\u001b[0m\n",
      "\u001b[0m\n"
     ]
    },
    {
     "name": "stdin",
     "output_type": "stream",
     "text": [
      "ipdb>  (1-λ) * (λ_v * Γ_v1)\n"
     ]
    },
    {
     "name": "stdout",
     "output_type": "stream",
     "text": [
      "array([0.0495    , 0.04655709, 0.04379132, 0.04119189, 0.03874864,\n",
      "       0.03645208, 0.03429326, 0.03226383, 0.03035592, 0.02856216,\n",
      "       0.02687564, 0.02528985, 0.0237987 , 0.02239648, 0.0210778 ,\n",
      "       0.01983765, 0.01867126, 0.01757422, 0.01654234, 0.01557171,\n",
      "       0.01465864, 0.01379968, 0.01299159, 0.01223132, 0.01151601,\n",
      "       0.01084296, 0.01020965, 0.00961372, 0.00905292, 0.00852516,\n",
      "       0.00802848, 0.00756102, 0.00712104, 0.00670692, 0.00631712,\n",
      "       0.00595019, 0.00560478, 0.0052796 , 0.00497348, 0.00468526,\n",
      "       0.00441391, 0.00415841, 0.00391784, 0.00369132, 0.00347801,\n",
      "       0.00327714, 0.00308797, 0.00290982, 0.00274203, 0.00258401],\n",
      "      dtype=float32)\n"
     ]
    },
    {
     "name": "stdin",
     "output_type": "stream",
     "text": [
      "ipdb>  ((1-λ) * (λ_v * Γ_v1)).shape\n"
     ]
    },
    {
     "name": "stdout",
     "output_type": "stream",
     "text": [
      "(50,)\n"
     ]
    },
    {
     "name": "stdin",
     "output_type": "stream",
     "text": [
      "ipdb>  s_values.shape\n"
     ]
    },
    {
     "name": "stdout",
     "output_type": "stream",
     "text": [
      "(49, 20)\n"
     ]
    },
    {
     "name": "stdin",
     "output_type": "stream",
     "text": [
      "ipdb>  00\n"
     ]
    },
    {
     "name": "stdout",
     "output_type": "stream",
     "text": [
      "0\n"
     ]
    }
   ],
   "source": [
    "import pdb; pdb.pm()"
   ]
  },
  {
   "cell_type": "code",
   "execution_count": 13,
   "metadata": {},
   "outputs": [
    {
     "ename": "ZeroDivisionError",
     "evalue": "division by zero",
     "output_type": "error",
     "traceback": [
      "\u001b[0;31m---------------------------------------------------------------------------\u001b[0m",
      "\u001b[0;31mZeroDivisionError\u001b[0m                         Traceback (most recent call last)",
      "\u001b[0;32m<ipython-input-13-1a7584244868>\u001b[0m in \u001b[0;36m<module>\u001b[0;34m\u001b[0m\n\u001b[0;32m----> 1\u001b[0;31m \u001b[0mget_beta_vector\u001b[0m\u001b[0;34m(\u001b[0m\u001b[0;36m100\u001b[0m\u001b[0;34m,\u001b[0m \u001b[0;36m0\u001b[0m\u001b[0;34m,\u001b[0m \u001b[0;36m0\u001b[0m\u001b[0;34m)\u001b[0m\u001b[0;34m\u001b[0m\u001b[0;34m\u001b[0m\u001b[0m\n\u001b[0m",
      "\u001b[0;31mZeroDivisionError\u001b[0m: division by zero"
     ]
    }
   ],
   "source": [
    "get_beta_vector(100, 0, )"
   ]
  }
 ],
 "metadata": {
  "kernelspec": {
   "display_name": "Python 3.8 (crowd)",
   "language": "python",
   "name": "crowd"
  },
  "language_info": {
   "codemirror_mode": {
    "name": "ipython",
    "version": 3
   },
   "file_extension": ".py",
   "mimetype": "text/x-python",
   "name": "python",
   "nbconvert_exporter": "python",
   "pygments_lexer": "ipython3",
   "version": "3.8.3"
  }
 },
 "nbformat": 4,
 "nbformat_minor": 4
}
