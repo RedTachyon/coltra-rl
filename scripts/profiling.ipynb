{
 "cells": [
  {
   "cell_type": "code",
   "execution_count": 2,
   "outputs": [],
   "source": [
    "%load_ext line_profiler"
   ],
   "metadata": {
    "collapsed": false,
    "ExecuteTime": {
     "end_time": "2023-08-31T00:01:15.945494Z",
     "start_time": "2023-08-31T00:01:15.919359Z"
    }
   },
   "id": "73462902d730dac1"
  },
  {
   "cell_type": "code",
   "execution_count": 3,
   "id": "initial_id",
   "metadata": {
    "collapsed": true,
    "jupyter": {
     "outputs_hidden": true
    },
    "ExecuteTime": {
     "end_time": "2023-08-31T00:01:25.353107Z",
     "start_time": "2023-08-31T00:01:20.051401Z"
    }
   },
   "outputs": [],
   "source": [
    "from coltra import DAgent, HomogeneousGroup, MultiAgentEnv\n",
    "from coltra.models import MLPModel\n",
    "from coltra.collectors import collect_crowd_data\n",
    "from coltra.envs import MultiGymEnv"
   ]
  },
  {
   "cell_type": "code",
   "execution_count": 4,
   "outputs": [],
   "source": [
    "env = MultiGymEnv.get_venv(env_name=\"CartPole-v1\")"
   ],
   "metadata": {
    "collapsed": false,
    "ExecuteTime": {
     "end_time": "2023-08-31T00:01:30.761946Z",
     "start_time": "2023-08-31T00:01:25.355347Z"
    }
   },
   "id": "578e4ba9d5a8d895"
  },
  {
   "cell_type": "code",
   "execution_count": 5,
   "outputs": [],
   "source": [
    "%lprun -f env.reset env.reset()"
   ],
   "metadata": {
    "collapsed": false,
    "ExecuteTime": {
     "end_time": "2023-08-31T00:01:31.860917Z",
     "start_time": "2023-08-31T00:01:31.717802Z"
    }
   },
   "id": "4ce4f7998414e814"
  },
  {
   "cell_type": "code",
   "execution_count": 9,
   "outputs": [],
   "source": [
    "model = MLPModel({}, env.observation_space, env.action_space)\n",
    "agent = DAgent(model)\n",
    "group = HomogeneousGroup(agent)"
   ],
   "metadata": {
    "collapsed": false,
    "ExecuteTime": {
     "end_time": "2023-08-31T00:07:09.225655Z",
     "start_time": "2023-08-31T00:07:09.213831Z"
    }
   },
   "id": "61154e09c8494d60"
  },
  {
   "cell_type": "code",
   "execution_count": 11,
   "outputs": [],
   "source": [
    "data = collect_crowd_data(group, env, 200)"
   ],
   "metadata": {
    "collapsed": false,
    "ExecuteTime": {
     "end_time": "2023-08-31T00:07:14.088592Z",
     "start_time": "2023-08-31T00:07:13.762792Z"
    }
   },
   "id": "ceef0273b1072f76"
  },
  {
   "cell_type": "code",
   "execution_count": 14,
   "outputs": [],
   "source": [
    "%lprun -f collect_crowd_data collect_crowd_data(group, env, 200)"
   ],
   "metadata": {
    "collapsed": false,
    "ExecuteTime": {
     "end_time": "2023-08-31T00:07:40.552547Z",
     "start_time": "2023-08-31T00:07:40.077832Z"
    }
   },
   "id": "1ffc93557161a4a1"
  },
  {
   "cell_type": "code",
   "execution_count": null,
   "outputs": [],
   "source": [],
   "metadata": {
    "collapsed": false
   },
   "id": "d84edf1ee6fa6e2c"
  }
 ],
 "metadata": {
  "kernelspec": {
   "display_name": "Python 3.10 (coltra-rl)",
   "language": "python",
   "name": "coltra-rl"
  },
  "language_info": {
   "codemirror_mode": {
    "name": "ipython",
    "version": 3
   },
   "file_extension": ".py",
   "mimetype": "text/x-python",
   "name": "python",
   "nbconvert_exporter": "python",
   "pygments_lexer": "ipython3",
   "version": "3.10.9"
  }
 },
 "nbformat": 4,
 "nbformat_minor": 5
}
